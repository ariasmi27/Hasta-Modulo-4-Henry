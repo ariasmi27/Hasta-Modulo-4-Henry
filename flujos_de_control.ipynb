{
 "cells": [
  {
   "cell_type": "code",
   "execution_count": 1,
   "metadata": {},
   "outputs": [],
   "source": [
    "a=5\n",
    "b=7"
   ]
  },
  {
   "cell_type": "code",
   "execution_count": 2,
   "metadata": {},
   "outputs": [
    {
     "name": "stdout",
     "output_type": "stream",
     "text": [
      "a es menor que b\n"
     ]
    }
   ],
   "source": [
    "if a<b:\n",
    "    print (\"a es menor que b\")\n",
    "elif a>b:\n",
    "    print (\"a es mayor que b\")    \n",
    "else:\n",
    "    print (\"a y b son iguales\")"
   ]
  },
  {
   "cell_type": "code",
   "execution_count": 3,
   "metadata": {},
   "outputs": [
    {
     "name": "stdout",
     "output_type": "stream",
     "text": [
      " x es positivo\n"
     ]
    }
   ],
   "source": [
    "x=10\n",
    "\n",
    "if x>0:\n",
    "    print(\" x es positivo\")"
   ]
  },
  {
   "cell_type": "code",
   "execution_count": 4,
   "metadata": {},
   "outputs": [
    {
     "name": "stdout",
     "output_type": "stream",
     "text": [
      "soy igual\n"
     ]
    }
   ],
   "source": [
    "num=10\n",
    "if num>10:\n",
    "    print(\"Soy mayor\")\n",
    "elif num<10:\n",
    "    print(\"Soy menor \")  \n",
    "else:\n",
    "    print(\"soy igual\") "
   ]
  },
  {
   "cell_type": "code",
   "execution_count": 5,
   "metadata": {},
   "outputs": [
    {
     "name": "stdout",
     "output_type": "stream",
     "text": [
      "0\n"
     ]
    }
   ],
   "source": [
    "for i in range (5):\n",
    "    print(i)\n",
    "    break"
   ]
  },
  {
   "cell_type": "code",
   "execution_count": 6,
   "metadata": {},
   "outputs": [
    {
     "name": "stdout",
     "output_type": "stream",
     "text": [
      "P\n",
      "y\n",
      "t\n",
      "Se encontro la letra h\n"
     ]
    }
   ],
   "source": [
    "cadena=\"Python\"\n",
    "for letra in cadena:\n",
    "     if letra==\"h\":\n",
    "          print(\"Se encontro la letra h\")\n",
    "          break\n",
    "     print (letra)"
   ]
  },
  {
   "cell_type": "code",
   "execution_count": 7,
   "metadata": {},
   "outputs": [
    {
     "name": "stdout",
     "output_type": "stream",
     "text": [
      "M\n",
      "i\n",
      "c\n",
      "Se encontro la letra a\n"
     ]
    }
   ],
   "source": [
    "cadena= \"Micaela\"\n",
    "for letra in cadena:\n",
    "    if letra== \"a\":\n",
    "        print (\"Se encontro la letra a\")\n",
    "        break\n",
    "    print(letra)"
   ]
  },
  {
   "cell_type": "code",
   "execution_count": 8,
   "metadata": {},
   "outputs": [
    {
     "name": "stdout",
     "output_type": "stream",
     "text": [
      "y\n",
      "t\n",
      "h\n",
      "o\n",
      "n\n"
     ]
    }
   ],
   "source": [
    "\n",
    "cadena=\"Python\"\n",
    "for letra in cadena:\n",
    "    if letra==\"P\":\n",
    "        continue\n",
    "    print(letra)"
   ]
  }
 ],
 "metadata": {
  "kernelspec": {
   "display_name": "Python 3",
   "language": "python",
   "name": "python3"
  },
  "language_info": {
   "codemirror_mode": {
    "name": "ipython",
    "version": 3
   },
   "file_extension": ".py",
   "mimetype": "text/x-python",
   "name": "python",
   "nbconvert_exporter": "python",
   "pygments_lexer": "ipython3",
   "version": "3.12.0"
  }
 },
 "nbformat": 4,
 "nbformat_minor": 2
}
