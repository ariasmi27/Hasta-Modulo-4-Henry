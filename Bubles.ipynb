{
 "cells": [
  {
   "cell_type": "code",
   "execution_count": 4,
   "metadata": {},
   "outputs": [
    {
     "name": "stdout",
     "output_type": "stream",
     "text": [
      "1\n"
     ]
    }
   ],
   "source": [
    "suma=0\n",
    "suma=suma+1\n",
    "print (suma)"
   ]
  },
  {
   "cell_type": "code",
   "execution_count": 5,
   "metadata": {},
   "outputs": [
    {
     "name": "stdout",
     "output_type": "stream",
     "text": [
      "3\n"
     ]
    }
   ],
   "source": [
    "suma=0\n",
    "suma=suma+1\n",
    "suma=suma+2\n",
    "print (suma)"
   ]
  },
  {
   "cell_type": "code",
   "execution_count": 6,
   "metadata": {},
   "outputs": [
    {
     "name": "stdout",
     "output_type": "stream",
     "text": [
      "2\n",
      "3\n",
      "4\n",
      "5\n",
      "6\n"
     ]
    }
   ],
   "source": [
    "numeros=[1,2,3,4,5]\n",
    "for num in numeros :\n",
    "    suma=num+1\n",
    "    print(suma)"
   ]
  },
  {
   "cell_type": "code",
   "execution_count": 7,
   "metadata": {},
   "outputs": [
    {
     "name": "stdout",
     "output_type": "stream",
     "text": [
      "2\n",
      "3\n",
      "4\n",
      "5\n",
      "6\n"
     ]
    }
   ],
   "source": [
    "for i in range(1,6):\n",
    "    suma=i+1\n",
    "    print (suma)"
   ]
  },
  {
   "cell_type": "code",
   "execution_count": 8,
   "metadata": {},
   "outputs": [
    {
     "name": "stdout",
     "output_type": "stream",
     "text": [
      "Variable de interacion: 1 Resultados= 2\n",
      "Variable de interacion: 2 Resultados= 3\n",
      "Variable de interacion: 3 Resultados= 4\n",
      "Variable de interacion: 4 Resultados= 5\n",
      "Variable de interacion: 5 Resultados= 6\n"
     ]
    }
   ],
   "source": [
    "for i in range(1,6):\n",
    "    suma=i+1\n",
    "    print(\"Variable de interacion:\" ,i, \"Resultados=\", suma)"
   ]
  },
  {
   "cell_type": "code",
   "execution_count": 9,
   "metadata": {},
   "outputs": [
    {
     "name": "stdout",
     "output_type": "stream",
     "text": [
      "num 1\n",
      "num 2\n",
      "num 3\n",
      "num 4\n",
      "num 5\n"
     ]
    }
   ],
   "source": [
    "num=1\n",
    "while num<6:\n",
    "    print(\"num\", num)\n",
    "    num=num+1"
   ]
  },
  {
   "cell_type": "code",
   "execution_count": 10,
   "metadata": {},
   "outputs": [
    {
     "name": "stdout",
     "output_type": "stream",
     "text": [
      "0\n"
     ]
    }
   ],
   "source": [
    "for i in range (5):\n",
    "    print (i)\n",
    "    break"
   ]
  }
 ],
 "metadata": {
  "kernelspec": {
   "display_name": "Python 3",
   "language": "python",
   "name": "python3"
  },
  "language_info": {
   "codemirror_mode": {
    "name": "ipython",
    "version": 3
   },
   "file_extension": ".py",
   "mimetype": "text/x-python",
   "name": "python",
   "nbconvert_exporter": "python",
   "pygments_lexer": "ipython3",
   "version": "3.12.0"
  }
 },
 "nbformat": 4,
 "nbformat_minor": 2
}
